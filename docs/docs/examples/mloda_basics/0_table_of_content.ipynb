{
 "cells": [
  {
   "cell_type": "markdown",
   "metadata": {},
   "source": [
    "## Table of content\n",
    "\n",
    "1) Intro to the core interfaces of mloda\n",
    "   - Introduction to mloda's core interfaces and practical demonstration of its capabilities.\n",
    "2) What makes mloda unique?\n",
    "   - Explanation of mloda's unique aspects, including data reusability and support for diverse technologies.\n",
    "3) What is data, Feature, FeatureSets and FeatureGroups in mloda\n",
    "   - Detailed overview of key objects in mloda and their relationships.\n",
    "4) Roles in mloda\n",
    "   - Exploration of the roles of Data Producers, Data Users, and Data Owners within mloda."
   ]
  },
  {
   "cell_type": "markdown",
   "metadata": {},
   "source": [
    "## Prerequisite Setup for This Example\n",
    "------------------------------------\n",
    "This example assumes that you downloaded the repository.\n",
    "\n",
    "1. Enable development mode by running the following command in your terminal:\n",
    "```bash\n",
    "export ML_DEV_MODE=1\n",
    "```\n",
    "\n",
    "2. Install the required package in editable mode:\n",
    "```bash\n",
    "pip install -e .\n",
    "```\n",
    "\n",
    "Additionally, there is also an installation guide under getting started."
   ]
  }
 ],
 "metadata": {
  "language_info": {
   "name": "python"
  }
 },
 "nbformat": 4,
 "nbformat_minor": 2
}
